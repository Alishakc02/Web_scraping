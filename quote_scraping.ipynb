{
  "nbformat": 4,
  "nbformat_minor": 0,
  "metadata": {
    "colab": {
      "provenance": [],
      "authorship_tag": "ABX9TyMkJEHIk04sBdZLOKRec4D/",
      "include_colab_link": true
    },
    "kernelspec": {
      "name": "python3",
      "display_name": "Python 3"
    },
    "language_info": {
      "name": "python"
    }
  },
  "cells": [
    {
      "cell_type": "markdown",
      "metadata": {
        "id": "view-in-github",
        "colab_type": "text"
      },
      "source": [
        "<a href=\"https://colab.research.google.com/github/Alishakc02/Web_scraping/blob/main/quote_scraping.ipynb\" target=\"_parent\"><img src=\"https://colab.research.google.com/assets/colab-badge.svg\" alt=\"Open In Colab\"/></a>"
      ]
    },
    {
      "cell_type": "code",
      "execution_count": null,
      "metadata": {
        "id": "ApgZ66ZNlY9C"
      },
      "outputs": [],
      "source": [
        "import requests\n",
        "from bs4 import BeautifulSoup\n",
        "from csv import writer # It will load the output in the csv file\n",
        "from time import sleep # Delay the time\n",
        "from random import choice # It helps to choose a choice from the list of options\n",
        "\n"
      ]
    },
    {
      "cell_type": "code",
      "source": [
        "#List to store all the quotes\n",
        "quotes = []\n",
        "#url\n",
        "base_url = \"http://quotes.toscrape.com/\"\n",
        "# this part of the url will keep changing\n",
        "url = \"http:///page/1\"\n",
        "\n"
      ],
      "metadata": {
        "id": "QeVZJbaIsD9u"
      },
      "execution_count": null,
      "outputs": []
    },
    {
      "cell_type": "code",
      "source": [
        "# making request\n",
        "res = requests.get(f\"{base_url}{url}\")\n",
        "print(f\"Now Scraping {base_url}{url}\")\n",
        "\n",
        "# parse response\n",
        "soup = BeautifulSoup(res.text, \"html.parser\")\n",
        "\n",
        "# extracting all quote elements\n",
        "quotes = soup.find_all(class_=\"quote\")"
      ],
      "metadata": {
        "colab": {
          "base_uri": "https://localhost:8080/"
        },
        "id": "U8RRc4JaugLb",
        "outputId": "030d411b-48d2-4f22-9c81-a12381efb363"
      },
      "execution_count": null,
      "outputs": [
        {
          "output_type": "stream",
          "name": "stdout",
          "text": [
            "Now Scraping http://quotes.toscrape.com//page/1\n"
          ]
        }
      ]
    },
    {
      "cell_type": "code",
      "source": [
        "# print quotes\n",
        "for quote in quotes:\n",
        "    text = quote.find(class_=\"text\").get_text()\n",
        "    author = quote.find(class_=\"author\").get_text()\n",
        "    keywords = quote.find(class_=\"tags\").get_text()\n",
        "    print(f\"{text} — {author}-{keywords}\")"
      ],
      "metadata": {
        "colab": {
          "base_uri": "https://localhost:8080/"
        },
        "id": "ef5g8TUWuq4R",
        "outputId": "d5ddbce9-f3e5-4148-853d-82690e2c2c89"
      },
      "execution_count": null,
      "outputs": [
        {
          "output_type": "stream",
          "name": "stdout",
          "text": [
            "“The world as we have created it is a process of our thinking. It cannot be changed without changing our thinking.” — Albert Einstein-\n",
            "            Tags:\n",
            "            \n",
            "change\n",
            "deep-thoughts\n",
            "thinking\n",
            "world\n",
            "\n",
            "“It is our choices, Harry, that show what we truly are, far more than our abilities.” — J.K. Rowling-\n",
            "            Tags:\n",
            "            \n",
            "abilities\n",
            "choices\n",
            "\n",
            "“There are only two ways to live your life. One is as though nothing is a miracle. The other is as though everything is a miracle.” — Albert Einstein-\n",
            "            Tags:\n",
            "            \n",
            "inspirational\n",
            "life\n",
            "live\n",
            "miracle\n",
            "miracles\n",
            "\n",
            "“The person, be it gentleman or lady, who has not pleasure in a good novel, must be intolerably stupid.” — Jane Austen-\n",
            "            Tags:\n",
            "            \n",
            "aliteracy\n",
            "books\n",
            "classic\n",
            "humor\n",
            "\n",
            "“Imperfection is beauty, madness is genius and it's better to be absolutely ridiculous than absolutely boring.” — Marilyn Monroe-\n",
            "            Tags:\n",
            "            \n",
            "be-yourself\n",
            "inspirational\n",
            "\n",
            "“Try not to become a man of success. Rather become a man of value.” — Albert Einstein-\n",
            "            Tags:\n",
            "            \n",
            "adulthood\n",
            "success\n",
            "value\n",
            "\n",
            "“It is better to be hated for what you are than to be loved for what you are not.” — André Gide-\n",
            "            Tags:\n",
            "            \n",
            "life\n",
            "love\n",
            "\n",
            "“I have not failed. I've just found 10,000 ways that won't work.” — Thomas A. Edison-\n",
            "            Tags:\n",
            "            \n",
            "edison\n",
            "failure\n",
            "inspirational\n",
            "paraphrased\n",
            "\n",
            "“A woman is like a tea bag; you never know how strong it is until it's in hot water.” — Eleanor Roosevelt-\n",
            "            Tags:\n",
            "            \n",
            "misattributed-eleanor-roosevelt\n",
            "\n",
            "“A day without sunshine is like, you know, night.” — Steve Martin-\n",
            "            Tags:\n",
            "            \n",
            "humor\n",
            "obvious\n",
            "simile\n",
            "\n"
          ]
        }
      ]
    },
    {
      "cell_type": "code",
      "source": [
        "#Now I want to make a search bar whenever I search the author or the tags or the quotes\n",
        "#It displays the relevant quotes related to the keyword\n",
        "#At first I would I like to go through author's name\n",
        "\n",
        "\n",
        "# 1. Scrape all quotes with authors\n",
        "all_quotes = []\n",
        "base_url = \"http://quotes.toscrape.com\"\n",
        "page_url = \"/page/1\"\n",
        "\n",
        "while page_url:\n",
        "    res = requests.get(base_url + page_url)\n",
        "    soup = BeautifulSoup(res.text, \"html.parser\")\n",
        "\n",
        "    quotes = soup.find_all(class_=\"quote\")\n",
        "    for quote in quotes:\n",
        "        text = quote.find(class_=\"text\").get_text(strip=True)\n",
        "        author = quote.find(class_=\"author\").get_text(strip=True)\n",
        "        keywords= quote.find(class_=\"tags\").get_text(strip=True)\n",
        "        all_quotes.append((text, author, keywords))\n",
        "\n",
        "    next_btn = soup.find(class_=\"next\")\n",
        "    if next_btn:\n",
        "        page_url = next_btn.a['href']\n",
        "    else:\n",
        "        break\n",
        "\n",
        "\n"
      ],
      "metadata": {
        "id": "H9niXbHLwkjJ"
      },
      "execution_count": null,
      "outputs": []
    },
    {
      "cell_type": "code",
      "source": [
        "# 2. Search by author name\n",
        "search_author = input(\"Enter author's name to search: \").strip().lower()\n",
        "\n",
        "found = False\n",
        "print(\"\\n🔎= Matching Quotes:\\n\")\n",
        "for quote, author, keywords in all_quotes:\n",
        "    if search_author in author.lower():\n",
        "        print(f' \"{quote}\"\\n👤 — {author}\\n')\n",
        "        found = True\n",
        "\n",
        "if not found:\n",
        "    print(\"No quotes found for this author.\")"
      ],
      "metadata": {
        "colab": {
          "base_uri": "https://localhost:8080/"
        },
        "id": "5VVOkWKVyYhu",
        "outputId": "d427d266-bdc1-4543-9ace-13a8d41f76f5"
      },
      "execution_count": null,
      "outputs": [
        {
          "output_type": "stream",
          "name": "stdout",
          "text": [
            "Enter author's name to search: albert\n",
            "\n",
            "🔎= Matching Quotes:\n",
            "\n",
            " \"“The world as we have created it is a process of our thinking. It cannot be changed without changing our thinking.”\"\n",
            "👤 — Albert Einstein\n",
            "\n",
            " \"“There are only two ways to live your life. One is as though nothing is a miracle. The other is as though everything is a miracle.”\"\n",
            "👤 — Albert Einstein\n",
            "\n",
            " \"“Try not to become a man of success. Rather become a man of value.”\"\n",
            "👤 — Albert Einstein\n",
            "\n",
            " \"“If you can't explain it to a six year old, you don't understand it yourself.”\"\n",
            "👤 — Albert Einstein\n",
            "\n",
            " \"“If you want your children to be intelligent, read them fairy tales. If you want them to be more intelligent, read them more fairy tales.”\"\n",
            "👤 — Albert Einstein\n",
            "\n",
            " \"“Logic will get you from A to Z; imagination will get you everywhere.”\"\n",
            "👤 — Albert Einstein\n",
            "\n",
            " \"“Any fool can know. The point is to understand.”\"\n",
            "👤 — Albert Einstein\n",
            "\n",
            " \"“Life is like riding a bicycle. To keep your balance, you must keep moving.”\"\n",
            "👤 — Albert Einstein\n",
            "\n",
            " \"“If I were not a physicist, I would probably be a musician. I often think in music. I live my daydreams in music. I see my life in terms of music.”\"\n",
            "👤 — Albert Einstein\n",
            "\n",
            " \"“Anyone who has never made a mistake has never tried anything new.”\"\n",
            "👤 — Albert Einstein\n",
            "\n"
          ]
        }
      ]
    },
    {
      "cell_type": "code",
      "source": [
        "search_keyword=input(\"Enter keyword to search: \").strip().lower()\n",
        "found=  False\n",
        "print(\"\\n Matching quotes:\\n\")\n",
        "for quotes, author, keywords in all_quotes:\n",
        "  if search_keyword in quotes.lower():\n",
        "    print(f\"{quotes}-{author}\")\n",
        "    found=True\n",
        "if not found:\n",
        "  print(\"No quotes found for this keyword\")"
      ],
      "metadata": {
        "colab": {
          "base_uri": "https://localhost:8080/"
        },
        "id": "cczSFMmdymmC",
        "outputId": "24b78806-2890-4ab4-ab80-695709cd77b1"
      },
      "execution_count": null,
      "outputs": [
        {
          "output_type": "stream",
          "name": "stdout",
          "text": [
            "Enter keyword to search: thinking\n",
            "\n",
            " Matching quotes:\n",
            "\n",
            "“The world as we have created it is a process of our thinking. It cannot be changed without changing our thinking.”-Albert Einstein\n",
            "“You may not be her first, her last, or her only. She loved before she may love again. But if she loves you now, what else matters? She's not perfect—you aren't either, and the two of you may never be perfect together but if she can make you laugh, cause you to think twice, and admit to being human and making mistakes, hold onto her and give her the most you can. She may not be thinking about you every second of the day, but she will give you a part of her that she knows you can break—her heart. So don't hurt her, don't change her, don't analyze and don't expect more than she can give. Smile when she makes you happy, let her know when she makes you mad, and miss her when she's not there.”-Bob Marley\n",
            "“If you only read the books that everyone else is reading, you can only think what everyone else is thinking.”-Haruki Murakami\n"
          ]
        }
      ]
    },
    {
      "cell_type": "code",
      "source": [
        "# I want to search the author name and recommend the author's top ten quotes\n",
        "search_author = input(\"Enter author's name to search: \").strip().lower()\n",
        "found=False\n",
        "print(\"\\n Matching Quotes:\\n\")\n",
        "for quote, author, keywords in all_quotes:\n",
        "  if search_author in author.lower():\n",
        "    print(f' \"{quote}\"\\n👤 — {author}\\n')\n",
        "    found=True\n",
        "if not found:\n",
        "  print(\"No matching quotes found.\")"
      ],
      "metadata": {
        "colab": {
          "base_uri": "https://localhost:8080/"
        },
        "id": "DcyxRgtK14o4",
        "outputId": "fb04c3a1-3c6a-4a45-8b36-20371982ebc6"
      },
      "execution_count": null,
      "outputs": [
        {
          "output_type": "stream",
          "name": "stdout",
          "text": [
            "Enter author's name to search: albert\n",
            "\n",
            " Matching Quotes:\n",
            "\n",
            " \"“The world as we have created it is a process of our thinking. It cannot be changed without changing our thinking.”\"\n",
            "👤 — Albert Einstein\n",
            "\n",
            " \"“There are only two ways to live your life. One is as though nothing is a miracle. The other is as though everything is a miracle.”\"\n",
            "👤 — Albert Einstein\n",
            "\n",
            " \"“Try not to become a man of success. Rather become a man of value.”\"\n",
            "👤 — Albert Einstein\n",
            "\n",
            " \"“If you can't explain it to a six year old, you don't understand it yourself.”\"\n",
            "👤 — Albert Einstein\n",
            "\n",
            " \"“If you want your children to be intelligent, read them fairy tales. If you want them to be more intelligent, read them more fairy tales.”\"\n",
            "👤 — Albert Einstein\n",
            "\n",
            " \"“Logic will get you from A to Z; imagination will get you everywhere.”\"\n",
            "👤 — Albert Einstein\n",
            "\n",
            " \"“Any fool can know. The point is to understand.”\"\n",
            "👤 — Albert Einstein\n",
            "\n",
            " \"“Life is like riding a bicycle. To keep your balance, you must keep moving.”\"\n",
            "👤 — Albert Einstein\n",
            "\n",
            " \"“If I were not a physicist, I would probably be a musician. I often think in music. I live my daydreams in music. I see my life in terms of music.”\"\n",
            "👤 — Albert Einstein\n",
            "\n",
            " \"“Anyone who has never made a mistake has never tried anything new.”\"\n",
            "👤 — Albert Einstein\n",
            "\n"
          ]
        }
      ]
    }
  ]
}